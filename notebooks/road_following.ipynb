{
 "cells": [],
 "metadata": {
  "kernelspec": {
   "display_name": "Python 3",
   "language": "python",
   "name": "python3"
  },
  "language_info": {
   "codemirror_mode": {
    "name": "ipython",
    "version": 3
   },
   "file_extension": ".py",
   "mimetype": "text/x-python",
   "name": "python",
   "nbconvert_exporter": "python",
   "pygments_lexer": "ipython3",
   "version": "3.6.8"
  },
  "pycharm": {
   "stem_cell": {
    "cell_type": "raw",
    "source": [
     "import torch\n",
     "import torchvision\n",
     "from utils import preprocess\n",
     "import numpy as np\n",
     "from torch2trt import torch2trt\n",
     "from torch2trt import TRTModule\n",
     "from jetcam.csi_camera import CSICamera\n",
     "from jetracer.nvidia_racecar import NvidiaRacecar\n",
     "\n",
     "CATEGORIES = ['apex']\n",
     "device = torch.device('cuda')\n",
     "model = torchvision.models.resnet18(pretrained=False)\n",
     "model.fc = torch.nn.Linear(512, 2 * len(CATEGORIES))\n",
     "model = model.cuda().eval().half()\n",
     "\n",
     "model.load_state_dict(torch.load('road_following_model.pth'))\n",
     "data = torch.zeros((1, 3, 224, 224)).cuda().half()\n",
     "model_trt = torch2trt(model, [data], fp16_mode=True)\n",
     "torch.save(model_trt.state_dict(), 'road_following_model_trt.pth')\n",
     "\n",
     "model_trt = TRTModule()\n",
     "model_trt.load_state_dict(torch.load('road_following_model_trt.pth'))\n",
     "\n",
     "car = NvidiaRacecar()\n",
     "camera = CSICamera(width=224, height=224, capture_fps=65)\n",
     "STEERING_GAIN = 0.75\n",
     "STEERING_BIAS = 0.00\n",
     "car.throttle = 0.15\n",
     "while True:\n",
     "    image = camera.read()\n",
     "    image = preprocess(image).half()\n",
     "    output = model_trt(image).detach().cpu().numpy().flatten()\n",
     "    x = float(output[0])\n",
     "    car.steering = x * STEERING_GAIN + STEERING_BIAS\n"
    ],
    "metadata": {
     "collapsed": false
    }
   }
  }
 },
 "nbformat": 4,
 "nbformat_minor": 2
}