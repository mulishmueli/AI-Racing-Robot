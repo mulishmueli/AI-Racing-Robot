{
 "cells": [],
 "metadata": {
  "kernelspec": {
   "display_name": "Python 3",
   "language": "python",
   "name": "python3"
  },
  "language_info": {
   "codemirror_mode": {
    "name": "ipython",
    "version": 3
   },
   "file_extension": ".py",
   "mimetype": "text/x-python",
   "name": "python",
   "nbconvert_exporter": "python",
   "pygments_lexer": "ipython3",
   "version": "3.6.8"
  },
  "pycharm": {
   "stem_cell": {
    "cell_type": "raw",
    "source": [
     "from jetracer.nvidia_racecar import NvidiaRacecar\n",
     "import traitlets\n",
     "import ipywidgets.widgets as widgets\n",
     "\n",
     "controller = widgets.Controller(index=0)  # replace with index of your controller\n",
     "display(controller)\n",
     "car = NvidiaRacecar()\n",
     "car.throttle_gain = 0.3\n",
     "car.steering_offset=-0.18\n",
     "car.steering = 0\n",
     "\n",
     "left_link = traitlets.dlink((controller.axes[0], 'value'), (car, 'steering'), transform=lambda x: -x)\n",
     "right_link = traitlets.dlink((controller.axes[5], 'value'), (car, 'throttle'), transform=lambda x: -x)\n"
    ],
    "metadata": {
     "collapsed": false
    }
   }
  }
 },
 "nbformat": 4,
 "nbformat_minor": 2
}